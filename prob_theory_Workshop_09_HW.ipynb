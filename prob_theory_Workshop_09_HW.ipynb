{
 "cells": [
  {
   "cell_type": "markdown",
   "metadata": {},
   "source": [
    "**Задача 1** Даны значения величины заработной платы заемщиков банка (zp) и значения их\n",
    "поведенческого кредитного скоринга (ks): zp = [35, 45, 190, 200, 40, 70, 54, 150, 120, 110],\n",
    "ks = [401, 574, 874, 919, 459, 739, 653, 902, 746, 832]. Используя математические\n",
    "операции, посчитать коэффициенты линейной регрессии, приняв за X заработную плату\n",
    "(то есть, zp - признак), а за y - значения скорингового балла (то есть, ks - целевая\n",
    "переменная). Произвести расчет как с использованием intercept, так и без."
   ]
  },
  {
   "cell_type": "code",
   "execution_count": 7,
   "metadata": {},
   "outputs": [],
   "source": [
    "import numpy as np\n",
    "zp = np.array([35, 45, 190, 200, 40, 70, 54, 150, 120, 110])\n",
    "ks = np.array([401, 574, 874, 919, 459, 739, 653, 902, 746, 832])\n",
    "\n",
    "x = zp.reshape(zp.size, 1)\n",
    "y = ks.reshape(ks.size, 1)\n",
    "\n",
    "X = np.hstack([np.ones((zp.size, 1)), x])"
   ]
  },
  {
   "cell_type": "markdown",
   "metadata": {},
   "source": [
    "Коэффициенты с intercept"
   ]
  },
  {
   "cell_type": "code",
   "execution_count": 8,
   "metadata": {},
   "outputs": [
    {
     "data": {
      "text/plain": [
       "array([[444.17735732],\n",
       "       [  2.62053888]])"
      ]
     },
     "execution_count": 8,
     "metadata": {},
     "output_type": "execute_result"
    }
   ],
   "source": [
    "B = np.dot(np.linalg.inv(np.dot(X.T, X)), X.T @ y)\n",
    "B"
   ]
  },
  {
   "cell_type": "markdown",
   "metadata": {},
   "source": [
    "Коэффициент без intercept"
   ]
  },
  {
   "cell_type": "code",
   "execution_count": 9,
   "metadata": {},
   "outputs": [
    {
     "data": {
      "text/plain": [
       "array([[5.88982042]])"
      ]
     },
     "execution_count": 9,
     "metadata": {},
     "output_type": "execute_result"
    }
   ],
   "source": [
    "B = np.dot(np.linalg.inv(np.dot(x.T, x)), x.T @ y)\n",
    "B"
   ]
  },
  {
   "cell_type": "markdown",
   "metadata": {},
   "source": [
    "**Задача 2** Посчитать коэффициент линейной регрессии при заработной плате (zp), используя\n",
    "градиентный спуск (без intercept)."
   ]
  },
  {
   "cell_type": "code",
   "execution_count": 10,
   "metadata": {},
   "outputs": [
    {
     "name": "stdout",
     "output_type": "stream",
     "text": [
      "B1 = 5.889820385799635, mse = 56516.85841571943\n"
     ]
    }
   ],
   "source": [
    "def mse_(B1, y=y, x=x, n=len(y)):\n",
    "    return np.sum((B1*x - y)**2) / n\n",
    "\n",
    "alpha = 1e-6\n",
    "B1 = 0.1\n",
    "mse = mse_(B1)\n",
    "\n",
    "n = len(y)\n",
    "\n",
    "delta = 1e-10\n",
    "prev_B1 = 1\n",
    "\n",
    "while True:\n",
    "    B1 -= alpha * (2/n) * np.sum((B1*x - y) * x)\n",
    "    if (abs(B1 - prev_B1) < delta):\n",
    "        mse = mse_(B1)\n",
    "        break\n",
    "    prev_B1 = B1\n",
    "\n",
    "print(f'B1 = {B1}, mse = {mse}')"
   ]
  }
 ],
 "metadata": {
  "kernelspec": {
   "display_name": "Python 3",
   "language": "python",
   "name": "python3"
  },
  "language_info": {
   "codemirror_mode": {
    "name": "ipython",
    "version": 3
   },
   "file_extension": ".py",
   "mimetype": "text/x-python",
   "name": "python",
   "nbconvert_exporter": "python",
   "pygments_lexer": "ipython3",
   "version": "3.10.11"
  },
  "orig_nbformat": 4
 },
 "nbformat": 4,
 "nbformat_minor": 2
}
